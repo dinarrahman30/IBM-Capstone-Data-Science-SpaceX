{
  "metadata": {
    "kernelspec": {
      "name": "python",
      "display_name": "Python (Pyodide)",
      "language": "python"
    },
    "language_info": {
      "codemirror_mode": {
        "name": "python",
        "version": 3
      },
      "file_extension": ".py",
      "mimetype": "text/x-python",
      "name": "python",
      "nbconvert_exporter": "python",
      "pygments_lexer": "ipython3",
      "version": "3.8"
    },
    "prev_pub_hash": "a346f9a1ed73cbc6ac683dcfe38703902d239c53d46943d80353041cf8f794f8",
    "colab": {
      "provenance": [],
      "gpuType": "T4",
      "include_colab_link": true
    },
    "accelerator": "GPU"
  },
  "nbformat_minor": 0,
  "nbformat": 4,
  "cells": [
    {
      "cell_type": "markdown",
      "metadata": {
        "id": "view-in-github",
        "colab_type": "text"
      },
      "source": [
        "<a href=\"https://colab.research.google.com/github/dinarrahman30/IBM-Capstone-Data-Science-SpaceX/blob/main/SpaceX_Machine_Learning_Prediction.ipynb\" target=\"_parent\"><img src=\"https://colab.research.google.com/assets/colab-badge.svg\" alt=\"Open In Colab\"/></a>"
      ]
    },
    {
      "cell_type": "markdown",
      "source": [
        "<p style=\"text-align:center\">\n",
        "    <a href=\"https://skills.network/?utm_medium=Exinfluencer&utm_source=Exinfluencer&utm_content=000026UJ&utm_term=10006555&utm_id=NA-SkillsNetwork-Channel-SkillsNetworkCoursesIBMDS0321ENSkillsNetwork26802033-2022-01-01\" target=\"_blank\">\n",
        "    <img src=\"https://cf-courses-data.s3.us.cloud-object-storage.appdomain.cloud/assets/logos/SN_web_lightmode.png\" width=\"200\" alt=\"Skills Network Logo\">\n",
        "    </a>\n",
        "</p>\n"
      ],
      "metadata": {
        "id": "kX-DCPidvBZv"
      }
    },
    {
      "cell_type": "markdown",
      "source": [
        "# **Space X  Falcon 9 First Stage Landing Prediction**\n"
      ],
      "metadata": {
        "id": "pkAwkCtvvBZy"
      }
    },
    {
      "cell_type": "markdown",
      "source": [
        "## Hands on Lab: Complete the Machine Learning Prediction lab\n"
      ],
      "metadata": {
        "id": "zssScNFivBZz"
      }
    },
    {
      "cell_type": "markdown",
      "source": [
        "Estimated time needed: **60** minutes\n"
      ],
      "metadata": {
        "id": "I-7xRU1GvBZz"
      }
    },
    {
      "cell_type": "markdown",
      "source": [
        "Space X advertises Falcon 9 rocket launches on its website with a cost of 62 million dollars; other providers cost upward of 165 million dollars each, much of the savings is because Space X can reuse the first stage. Therefore if we can determine if the first stage will land, we can determine the cost of a launch. This information can be used if an alternate company wants to bid against space X for a rocket launch.   In this lab, you will create a machine learning pipeline  to predict if the first stage will land given the data from the preceding labs.\n"
      ],
      "metadata": {
        "id": "_Jah61M5vBZz"
      }
    },
    {
      "cell_type": "markdown",
      "source": [
        "![](https://cf-courses-data.s3.us.cloud-object-storage.appdomain.cloud/IBMDeveloperSkillsNetwork-DS0701EN-SkillsNetwork/api/Images/landing_1.gif)\n"
      ],
      "metadata": {
        "id": "6q9iNo8PvBZ0"
      }
    },
    {
      "cell_type": "markdown",
      "source": [
        "Several examples of an unsuccessful landing are shown here:\n"
      ],
      "metadata": {
        "id": "G2LPl8UJvBZ0"
      }
    },
    {
      "cell_type": "markdown",
      "source": [
        "![](https://cf-courses-data.s3.us.cloud-object-storage.appdomain.cloud/IBMDeveloperSkillsNetwork-DS0701EN-SkillsNetwork/api/Images/crash.gif)\n"
      ],
      "metadata": {
        "id": "QvK75JUovBZ0"
      }
    },
    {
      "cell_type": "markdown",
      "source": [
        "Most unsuccessful landings are planed. Space X; performs a controlled landing in the oceans.\n"
      ],
      "metadata": {
        "id": "aWm7W8FPvBZ0"
      }
    },
    {
      "cell_type": "markdown",
      "source": [
        "## Objectives\n"
      ],
      "metadata": {
        "id": "du7wi_aSvBZ1"
      }
    },
    {
      "cell_type": "markdown",
      "source": [
        "Perform exploratory  Data Analysis and determine Training Labels\n",
        "\n",
        "*   create a column for the class\n",
        "*   Standardize the data\n",
        "*   Split into training data and test data\n",
        "\n",
        "\\-Find best Hyperparameter for SVM, Classification Trees and Logistic Regression\n",
        "\n",
        "*   Find the method performs best using test data\n"
      ],
      "metadata": {
        "id": "pF5Z4cqfvBZ1"
      }
    },
    {
      "cell_type": "markdown",
      "source": [
        "## Import Libraries and Define Auxiliary Functions\n"
      ],
      "metadata": {
        "id": "gesOGcrfvBZ1"
      }
    },
    {
      "cell_type": "code",
      "source": [
        "!pip install pandas numpy seaborn"
      ],
      "metadata": {
        "colab": {
          "base_uri": "https://localhost:8080/"
        },
        "id": "7bsv5_ljvBZ1",
        "outputId": "413610fa-c231-4f82-c336-2712b26ae9b3"
      },
      "outputs": [
        {
          "output_type": "stream",
          "name": "stdout",
          "text": [
            "Requirement already satisfied: pandas in /usr/local/lib/python3.11/dist-packages (2.2.2)\n",
            "Requirement already satisfied: numpy in /usr/local/lib/python3.11/dist-packages (2.0.2)\n",
            "Requirement already satisfied: seaborn in /usr/local/lib/python3.11/dist-packages (0.13.2)\n",
            "Requirement already satisfied: python-dateutil>=2.8.2 in /usr/local/lib/python3.11/dist-packages (from pandas) (2.9.0.post0)\n",
            "Requirement already satisfied: pytz>=2020.1 in /usr/local/lib/python3.11/dist-packages (from pandas) (2025.2)\n",
            "Requirement already satisfied: tzdata>=2022.7 in /usr/local/lib/python3.11/dist-packages (from pandas) (2025.2)\n",
            "Requirement already satisfied: matplotlib!=3.6.1,>=3.4 in /usr/local/lib/python3.11/dist-packages (from seaborn) (3.10.0)\n",
            "Requirement already satisfied: contourpy>=1.0.1 in /usr/local/lib/python3.11/dist-packages (from matplotlib!=3.6.1,>=3.4->seaborn) (1.3.3)\n",
            "Requirement already satisfied: cycler>=0.10 in /usr/local/lib/python3.11/dist-packages (from matplotlib!=3.6.1,>=3.4->seaborn) (0.12.1)\n",
            "Requirement already satisfied: fonttools>=4.22.0 in /usr/local/lib/python3.11/dist-packages (from matplotlib!=3.6.1,>=3.4->seaborn) (4.59.0)\n",
            "Requirement already satisfied: kiwisolver>=1.3.1 in /usr/local/lib/python3.11/dist-packages (from matplotlib!=3.6.1,>=3.4->seaborn) (1.4.8)\n",
            "Requirement already satisfied: packaging>=20.0 in /usr/local/lib/python3.11/dist-packages (from matplotlib!=3.6.1,>=3.4->seaborn) (25.0)\n",
            "Requirement already satisfied: pillow>=8 in /usr/local/lib/python3.11/dist-packages (from matplotlib!=3.6.1,>=3.4->seaborn) (11.3.0)\n",
            "Requirement already satisfied: pyparsing>=2.3.1 in /usr/local/lib/python3.11/dist-packages (from matplotlib!=3.6.1,>=3.4->seaborn) (3.2.3)\n",
            "Requirement already satisfied: six>=1.5 in /usr/local/lib/python3.11/dist-packages (from python-dateutil>=2.8.2->pandas) (1.17.0)\n"
          ]
        }
      ],
      "execution_count": 1
    },
    {
      "cell_type": "markdown",
      "source": [
        "We will import the following libraries for the lab\n"
      ],
      "metadata": {
        "id": "Ri7YKrC7vBZ2"
      }
    },
    {
      "cell_type": "code",
      "source": [
        "# Pandas is a software library written for the Python programming language for data manipulation and analysis.\n",
        "import pandas as pd\n",
        "# NumPy is a library for the Python programming language, adding support for large, multi-dimensional arrays and matrices, along with a large collection of high-level mathematical functions to operate on these arrays\n",
        "import numpy as np\n",
        "# Matplotlib is a plotting library for python and pyplot gives us a MatLab like plotting framework. We will use this in our plotter function to plot data.\n",
        "import matplotlib.pyplot as plt\n",
        "#Seaborn is a Python data visualization library based on matplotlib. It provides a high-level interface for drawing attractive and informative statistical graphics\n",
        "import seaborn as sns\n",
        "# Preprocessing allows us to standarsize our data\n",
        "from sklearn import preprocessing\n",
        "# Allows us to split our data into training and testing data\n",
        "from sklearn.model_selection import train_test_split\n",
        "# Allows us to test parameters of classification algorithms and find the best one\n",
        "from sklearn.model_selection import GridSearchCV\n",
        "# Logistic Regression classification algorithm\n",
        "from sklearn.linear_model import LogisticRegression\n",
        "# Support Vector Machine classification algorithm\n",
        "from sklearn.svm import SVC\n",
        "# Decision Tree classification algorithm\n",
        "from sklearn.tree import DecisionTreeClassifier\n",
        "# K Nearest Neighbors classification algorithm\n",
        "from sklearn.neighbors import KNeighborsClassifier"
      ],
      "metadata": {
        "id": "TvPz4Ph1vBZ2"
      },
      "outputs": [],
      "execution_count": null
    },
    {
      "cell_type": "markdown",
      "source": [
        "This function is to plot the confusion matrix.\n"
      ],
      "metadata": {
        "id": "K90AMAEavBZ3"
      }
    },
    {
      "cell_type": "code",
      "source": [
        "def plot_confusion_matrix(y,y_predict):\n",
        "    \"this function plots the confusion matrix\"\n",
        "    from sklearn.metrics import confusion_matrix\n",
        "\n",
        "    cm = confusion_matrix(y, y_predict)\n",
        "    ax= plt.subplot()\n",
        "    sns.heatmap(cm, annot=True, ax = ax); #annot=True to annotate cells\n",
        "    ax.set_xlabel('Predicted labels')\n",
        "    ax.set_ylabel('True labels')\n",
        "    ax.set_title('Confusion Matrix');\n",
        "    ax.xaxis.set_ticklabels(['did not land', 'land']); ax.yaxis.set_ticklabels(['did not land', 'landed'])\n",
        "    plt.show()"
      ],
      "metadata": {
        "id": "cDJXaQ14vBZ3"
      },
      "outputs": [],
      "execution_count": null
    },
    {
      "cell_type": "markdown",
      "source": [
        "## Load the dataframe\n"
      ],
      "metadata": {
        "id": "kixXMCNivBZ3"
      }
    },
    {
      "cell_type": "markdown",
      "source": [
        "Load the data\n"
      ],
      "metadata": {
        "id": "J3WbqOEmvBZ3"
      }
    },
    {
      "cell_type": "code",
      "source": [
        "from js import fetch\n",
        "import io\n",
        "\n",
        "URL1 = \"https://cf-courses-data.s3.us.cloud-object-storage.appdomain.cloud/IBM-DS0321EN-SkillsNetwork/datasets/dataset_part_2.csv\"\n",
        "resp1 = await fetch(URL1)\n",
        "text1 = io.BytesIO((await resp1.arrayBuffer()).to_py())\n",
        "data = pd.read_csv(text1)"
      ],
      "metadata": {
        "id": "pOEulChIvBZ3"
      },
      "outputs": [],
      "execution_count": null
    },
    {
      "cell_type": "code",
      "source": [
        "data.head()"
      ],
      "metadata": {
        "id": "24PnaPnhvBZ4"
      },
      "outputs": [],
      "execution_count": null
    },
    {
      "cell_type": "code",
      "source": [
        "URL2 = 'https://cf-courses-data.s3.us.cloud-object-storage.appdomain.cloud/IBM-DS0321EN-SkillsNetwork/datasets/dataset_part_3.csv'\n",
        "resp2 = await fetch(URL2)\n",
        "text2 = io.BytesIO((await resp2.arrayBuffer()).to_py())\n",
        "X = pd.read_csv(text2)"
      ],
      "metadata": {
        "id": "OpzFE0LAvBZ4"
      },
      "outputs": [],
      "execution_count": null
    },
    {
      "cell_type": "code",
      "source": [
        "X.head(100)"
      ],
      "metadata": {
        "id": "oo0LGfOLvBZ4"
      },
      "outputs": [],
      "execution_count": null
    },
    {
      "cell_type": "markdown",
      "source": [
        "## TASK  1\n"
      ],
      "metadata": {
        "id": "PZM2JMyNvBZ4"
      }
    },
    {
      "cell_type": "markdown",
      "source": [
        "Create a NumPy array from the column <code>Class</code> in <code>data</code>, by applying the method <code>to_numpy()</code>  then\n",
        "assign it  to the variable <code>Y</code>,make sure the output is a  Pandas series (only one bracket df\\['name of  column']).\n"
      ],
      "metadata": {
        "id": "VRhjgdcovBZ4"
      }
    },
    {
      "cell_type": "code",
      "source": [
        "Y = data['Class'].to_numpy()"
      ],
      "metadata": {
        "id": "etWMG3H_vuTB"
      },
      "execution_count": null,
      "outputs": []
    },
    {
      "cell_type": "markdown",
      "source": [
        "## TASK  2\n"
      ],
      "metadata": {
        "id": "3F5by-J7vBZ5"
      }
    },
    {
      "cell_type": "markdown",
      "source": [
        "Standardize the data in <code>X</code> then reassign it to the variable  <code>X</code> using the transform provided below.\n"
      ],
      "metadata": {
        "id": "ahoj2s5evBZ5"
      }
    },
    {
      "cell_type": "code",
      "source": [
        "# students get this\n",
        "transform = preprocessing.StandardScaler()"
      ],
      "metadata": {
        "id": "tbAA2tYivBZ5"
      },
      "outputs": [],
      "execution_count": null
    },
    {
      "cell_type": "markdown",
      "source": [
        "We split the data into training and testing data using the  function  <code>train_test_split</code>.   The training data is divided into validation data, a second set used for training  data; then the models are trained and hyperparameters are selected using the function <code>GridSearchCV</code>.\n"
      ],
      "metadata": {
        "id": "CxA3H8NGvBZ5"
      }
    },
    {
      "cell_type": "markdown",
      "source": [
        "## TASK  3\n"
      ],
      "metadata": {
        "id": "9jUsDrh0vBZ6"
      }
    },
    {
      "cell_type": "markdown",
      "source": [
        "Use the function train_test_split to split the data X and Y into training and test data. Set the parameter test_size to  0.2 and random_state to 2. The training data and test data should be assigned to the following labels.\n"
      ],
      "metadata": {
        "id": "mwURt_zUvBZ6"
      }
    },
    {
      "cell_type": "markdown",
      "source": [
        "<code>X_train, X_test, Y_train, Y_test</code>\n"
      ],
      "metadata": {
        "id": "5RDmxTvvvBZ6"
      }
    },
    {
      "cell_type": "code",
      "source": [
        "X_train, X_test, Y_train, Y_test = train_test_split(X, Y, test_size=0.2, random_state=2)"
      ],
      "metadata": {
        "id": "FZcUOzu_vBZ7"
      },
      "outputs": [],
      "execution_count": null
    },
    {
      "cell_type": "markdown",
      "source": [
        "we can see we only have 18 test samples.\n"
      ],
      "metadata": {
        "id": "F_eAkToMvBZ7"
      }
    },
    {
      "cell_type": "code",
      "source": [
        "Y_test.shape"
      ],
      "metadata": {
        "id": "W8roNxt7vBZ7"
      },
      "outputs": [],
      "execution_count": null
    },
    {
      "cell_type": "markdown",
      "source": [
        "## TASK  4\n"
      ],
      "metadata": {
        "id": "ZcBhnQuwvBZ7"
      }
    },
    {
      "cell_type": "markdown",
      "source": [
        "Create a logistic regression object  then create a  GridSearchCV object  <code>logreg_cv</code> with cv = 10.  Fit the object to find the best parameters from the dictionary <code>parameters</code>.\n"
      ],
      "metadata": {
        "id": "su5YpZL6vBZ7"
      }
    },
    {
      "cell_type": "code",
      "source": [
        "parameters ={'C':[0.01,0.1,1],\n",
        "             'penalty':['l2'],\n",
        "             'solver':['lbfgs']}"
      ],
      "metadata": {
        "id": "mLAx-fRgvBZ7"
      },
      "outputs": [],
      "execution_count": null
    },
    {
      "cell_type": "code",
      "source": [
        "parameters ={\"C\":[0.01,0.1,1],'penalty':['l2'], 'solver':['lbfgs']}# l1 lasso l2 ridge\n",
        "lr=LogisticRegression()\n"
      ],
      "metadata": {
        "id": "5L4PDVIYvBZ_"
      },
      "outputs": [],
      "execution_count": null
    },
    {
      "cell_type": "markdown",
      "source": [
        "We output the <code>GridSearchCV</code> object for logistic regression. We display the best parameters using the data attribute <code>best_params\\_</code> and the accuracy on the validation data using the data attribute <code>best_score\\_</code>.\n"
      ],
      "metadata": {
        "id": "i2Pe1klKvBaA"
      }
    },
    {
      "cell_type": "code",
      "source": [
        "print(\"tuned hpyerparameters :(best parameters) \",logreg_cv.best_params_)\n",
        "print(\"accuracy :\",logreg_cv.best_score_)"
      ],
      "metadata": {
        "id": "k5vwJAP4vBaA"
      },
      "outputs": [],
      "execution_count": null
    },
    {
      "cell_type": "markdown",
      "source": [
        "## TASK  5\n"
      ],
      "metadata": {
        "id": "i9mgKpXDvBaA"
      }
    },
    {
      "cell_type": "markdown",
      "source": [
        "Calculate the accuracy on the test data using the method <code>score</code>:\n"
      ],
      "metadata": {
        "id": "Qz0eGOTVvBaB"
      }
    },
    {
      "cell_type": "code",
      "source": [
        "logreg_test_accuracy = logreg_cv.score(X_test, Y_test)\n",
        "print(\"Accuracy on test data:\", logreg_test_accuracy)"
      ],
      "metadata": {
        "colab": {
          "base_uri": "https://localhost:8080/",
          "height": 166
        },
        "id": "7nfqdHjYvBaB",
        "outputId": "3a582574-d635-4beb-e5db-a3d97af5282b"
      },
      "outputs": [
        {
          "output_type": "error",
          "ename": "NameError",
          "evalue": "name 'logreg_cv' is not defined",
          "traceback": [
            "\u001b[0;31m---------------------------------------------------------------------------\u001b[0m",
            "\u001b[0;31mNameError\u001b[0m                                 Traceback (most recent call last)",
            "\u001b[0;32m/tmp/ipython-input-46756046.py\u001b[0m in \u001b[0;36m<cell line: 0>\u001b[0;34m()\u001b[0m\n\u001b[0;32m----> 1\u001b[0;31m \u001b[0mlogreg_test_accuracy\u001b[0m \u001b[0;34m=\u001b[0m \u001b[0mlogreg_cv\u001b[0m\u001b[0;34m.\u001b[0m\u001b[0mscore\u001b[0m\u001b[0;34m(\u001b[0m\u001b[0mX_test\u001b[0m\u001b[0;34m,\u001b[0m \u001b[0mY_test\u001b[0m\u001b[0;34m)\u001b[0m\u001b[0;34m\u001b[0m\u001b[0;34m\u001b[0m\u001b[0m\n\u001b[0m\u001b[1;32m      2\u001b[0m \u001b[0mprint\u001b[0m\u001b[0;34m(\u001b[0m\u001b[0;34m\"Accuracy on test data:\"\u001b[0m\u001b[0;34m,\u001b[0m \u001b[0mlogreg_test_accuracy\u001b[0m\u001b[0;34m)\u001b[0m\u001b[0;34m\u001b[0m\u001b[0;34m\u001b[0m\u001b[0m\n",
            "\u001b[0;31mNameError\u001b[0m: name 'logreg_cv' is not defined"
          ]
        }
      ],
      "execution_count": null
    },
    {
      "cell_type": "markdown",
      "source": [
        "Lets look at the confusion matrix:\n"
      ],
      "metadata": {
        "id": "LNhV1xsjvBaB"
      }
    },
    {
      "cell_type": "code",
      "source": [
        "yhat=logreg_cv.predict(X_test)\n",
        "plot_confusion_matrix(Y_test,yhat)"
      ],
      "metadata": {
        "id": "AApefKKWvBaB"
      },
      "outputs": [],
      "execution_count": null
    },
    {
      "cell_type": "markdown",
      "source": [
        "Examining the confusion matrix, we see that logistic regression can distinguish between the different classes.  We see that the problem is false positives.\n",
        "\n",
        "Overview:\n",
        "\n",
        "True Postive - 12 (True label is landed, Predicted label is also landed)\n",
        "\n",
        "False Postive - 3 (True label is not landed, Predicted label is landed)\n"
      ],
      "metadata": {
        "id": "UDYV1AQmvBaC"
      }
    },
    {
      "cell_type": "markdown",
      "source": [
        "## TASK  6\n"
      ],
      "metadata": {
        "id": "jqjWKyhKvBaC"
      }
    },
    {
      "cell_type": "markdown",
      "source": [
        "Create a support vector machine object then  create a  <code>GridSearchCV</code> object  <code>svm_cv</code> with cv = 10.  Fit the object to find the best parameters from the dictionary <code>parameters</code>.\n"
      ],
      "metadata": {
        "id": "sAZpBPtgvBaC"
      }
    },
    {
      "cell_type": "code",
      "source": [
        "parameters = {'kernel':('linear', 'rbf','poly','rbf', 'sigmoid'),\n",
        "              'C': np.logspace(-3, 3, 5),\n",
        "              'gamma':np.logspace(-3, 3, 5)}\n",
        "svm = SVC()"
      ],
      "metadata": {
        "id": "gjwRRDmVvBaC"
      },
      "outputs": [],
      "execution_count": null
    },
    {
      "cell_type": "code",
      "source": [
        "svm_cv = GridSearchCV(svm, parameters, cv=10)\n",
        "svm_cv.fit(X_train, Y_train)"
      ],
      "metadata": {
        "id": "t2dTWwyMvBaC"
      },
      "outputs": [],
      "execution_count": null
    },
    {
      "cell_type": "code",
      "source": [
        "print(\"tuned hpyerparameters :(best parameters) \",svm_cv.best_params_)\n",
        "print(\"accuracy :\",svm_cv.best_score_)"
      ],
      "metadata": {
        "id": "k-vOdepvvBaC"
      },
      "outputs": [],
      "execution_count": null
    },
    {
      "cell_type": "markdown",
      "source": [
        "## TASK  7\n"
      ],
      "metadata": {
        "id": "BlNbTazwvBaD"
      }
    },
    {
      "cell_type": "markdown",
      "source": [
        "Calculate the accuracy on the test data using the method <code>score</code>:\n"
      ],
      "metadata": {
        "id": "spX_EuQlvBaD"
      }
    },
    {
      "cell_type": "code",
      "source": [],
      "metadata": {
        "id": "S_DFEG2SvBaD"
      },
      "outputs": [],
      "execution_count": null
    },
    {
      "cell_type": "markdown",
      "source": [
        "We can plot the confusion matrix\n"
      ],
      "metadata": {
        "id": "2lR5OcEevBaD"
      }
    },
    {
      "cell_type": "code",
      "source": [
        "yhat=svm_cv.predict(X_test)\n",
        "plot_confusion_matrix(Y_test,yhat)"
      ],
      "metadata": {
        "id": "y0PDG8N2vBaD"
      },
      "outputs": [],
      "execution_count": null
    },
    {
      "cell_type": "markdown",
      "source": [
        "## TASK  8\n"
      ],
      "metadata": {
        "id": "8Mp9yjPuvBaD"
      }
    },
    {
      "cell_type": "markdown",
      "source": [
        "Create a decision tree classifier object then  create a  <code>GridSearchCV</code> object  <code>tree_cv</code> with cv = 10.  Fit the object to find the best parameters from the dictionary <code>parameters</code>.\n"
      ],
      "metadata": {
        "id": "IL9k5sDbvBaD"
      }
    },
    {
      "cell_type": "code",
      "source": [
        "parameters = {'criterion': ['gini', 'entropy'],\n",
        "     'splitter': ['best', 'random'],\n",
        "     'max_depth': [2*n for n in range(1,10)],\n",
        "     'max_features': ['auto', 'sqrt'],\n",
        "     'min_samples_leaf': [1, 2, 4],\n",
        "     'min_samples_split': [2, 5, 10]}\n",
        "\n",
        "tree = DecisionTreeClassifier()"
      ],
      "metadata": {
        "id": "-xoAwTqTvBaE"
      },
      "outputs": [],
      "execution_count": null
    },
    {
      "cell_type": "code",
      "source": [],
      "metadata": {
        "id": "OjjYLL4_vBaE"
      },
      "outputs": [],
      "execution_count": null
    },
    {
      "cell_type": "code",
      "source": [
        "print(\"tuned hpyerparameters :(best parameters) \",tree_cv.best_params_)\n",
        "print(\"accuracy :\",tree_cv.best_score_)"
      ],
      "metadata": {
        "id": "KCW4OUjsvBaE"
      },
      "outputs": [],
      "execution_count": null
    },
    {
      "cell_type": "markdown",
      "source": [
        "## TASK  9\n"
      ],
      "metadata": {
        "id": "WrMOX9V5vBaE"
      }
    },
    {
      "cell_type": "markdown",
      "source": [
        "Calculate the accuracy of tree_cv on the test data using the method <code>score</code>:\n"
      ],
      "metadata": {
        "id": "rb2HANpAvBaE"
      }
    },
    {
      "cell_type": "code",
      "source": [],
      "metadata": {
        "id": "Q-vwXBrXvBaE"
      },
      "outputs": [],
      "execution_count": null
    },
    {
      "cell_type": "markdown",
      "source": [
        "We can plot the confusion matrix\n"
      ],
      "metadata": {
        "id": "gCVRWztWvBaE"
      }
    },
    {
      "cell_type": "code",
      "source": [
        "yhat = tree_cv.predict(X_test)\n",
        "plot_confusion_matrix(Y_test,yhat)"
      ],
      "metadata": {
        "id": "Um8ABRG8vBaE"
      },
      "outputs": [],
      "execution_count": null
    },
    {
      "cell_type": "markdown",
      "source": [
        "## TASK  10\n"
      ],
      "metadata": {
        "id": "HqZor_xPvBaE"
      }
    },
    {
      "cell_type": "markdown",
      "source": [
        "Create a k nearest neighbors object then  create a  <code>GridSearchCV</code> object  <code>knn_cv</code> with cv = 10.  Fit the object to find the best parameters from the dictionary <code>parameters</code>.\n"
      ],
      "metadata": {
        "id": "cD-yTZLhvBaE"
      }
    },
    {
      "cell_type": "code",
      "source": [
        "parameters = {'n_neighbors': [1, 2, 3, 4, 5, 6, 7, 8, 9, 10],\n",
        "              'algorithm': ['auto', 'ball_tree', 'kd_tree', 'brute'],\n",
        "              'p': [1,2]}\n",
        "\n",
        "KNN = KNeighborsClassifier()"
      ],
      "metadata": {
        "id": "bfQpDmzzvBaE"
      },
      "outputs": [],
      "execution_count": null
    },
    {
      "cell_type": "code",
      "source": [],
      "metadata": {
        "id": "YcEp1zFhvBaF"
      },
      "outputs": [],
      "execution_count": null
    },
    {
      "cell_type": "code",
      "source": [
        "print(\"tuned hpyerparameters :(best parameters) \",knn_cv.best_params_)\n",
        "print(\"accuracy :\",knn_cv.best_score_)"
      ],
      "metadata": {
        "id": "6eamdJyAvBaF"
      },
      "outputs": [],
      "execution_count": null
    },
    {
      "cell_type": "markdown",
      "source": [
        "## TASK  11\n"
      ],
      "metadata": {
        "id": "VhxHvlKSvBaF"
      }
    },
    {
      "cell_type": "markdown",
      "source": [
        "Calculate the accuracy of knn_cv on the test data using the method <code>score</code>:\n"
      ],
      "metadata": {
        "id": "V_nACO14vBaF"
      }
    },
    {
      "cell_type": "code",
      "source": [],
      "metadata": {
        "id": "pgdommC_vBaF"
      },
      "outputs": [],
      "execution_count": null
    },
    {
      "cell_type": "markdown",
      "source": [
        "We can plot the confusion matrix\n"
      ],
      "metadata": {
        "id": "iQLf6Qi6vBaF"
      }
    },
    {
      "cell_type": "code",
      "source": [
        "yhat = knn_cv.predict(X_test)\n",
        "plot_confusion_matrix(Y_test,yhat)"
      ],
      "metadata": {
        "id": "nkxbPCxuvBaF"
      },
      "outputs": [],
      "execution_count": null
    },
    {
      "cell_type": "markdown",
      "source": [
        "## TASK  12\n"
      ],
      "metadata": {
        "id": "51m9JczsvBaF"
      }
    },
    {
      "cell_type": "markdown",
      "source": [
        "Find the method performs best:\n"
      ],
      "metadata": {
        "id": "7RAwObR3vBaG"
      }
    },
    {
      "cell_type": "code",
      "source": [],
      "metadata": {
        "id": "NwoowpiKvBaG"
      },
      "outputs": [],
      "execution_count": null
    },
    {
      "cell_type": "markdown",
      "source": [
        "## Authors\n"
      ],
      "metadata": {
        "id": "dDsFssqtvBaG"
      }
    },
    {
      "cell_type": "markdown",
      "source": [
        "[Pratiksha Verma](https://www.linkedin.com/in/pratiksha-verma-6487561b1/)\n"
      ],
      "metadata": {
        "id": "np9kTXRXvBaG"
      }
    },
    {
      "cell_type": "markdown",
      "source": [
        "<!--## Change Log--!>\n"
      ],
      "metadata": {
        "id": "_5GrEIV3vBaH"
      }
    },
    {
      "cell_type": "markdown",
      "source": [
        "<!--| Date (YYYY-MM-DD) | Version | Changed By      | Change Description      |\n",
        "| ----------------- | ------- | -------------   | ----------------------- |\n",
        "| 2022-11-09        | 1.0     | Pratiksha Verma | Converted initial version to Jupyterlite|--!>\n"
      ],
      "metadata": {
        "id": "AEYqQ9BevBaH"
      }
    },
    {
      "cell_type": "markdown",
      "source": [
        "### <h3 align=\"center\"> IBM Corporation 2022. All rights reserved. <h3/>\n"
      ],
      "metadata": {
        "id": "WXevOspxvBaH"
      }
    }
  ]
}